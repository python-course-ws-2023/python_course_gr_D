{
 "cells": [
  {
   "cell_type": "markdown",
   "id": "7b0db095",
   "metadata": {},
   "source": [
    "# Example project"
   ]
  },
  {
   "cell_type": "code",
   "execution_count": 1,
   "id": "d4b3b31d",
   "metadata": {},
   "outputs": [
    {
     "ename": "ModuleNotFoundError",
     "evalue": "No module named 'retail'",
     "output_type": "error",
     "traceback": [
      "\u001b[1;31m---------------------------------------------------------------------------\u001b[0m",
      "\u001b[1;31mModuleNotFoundError\u001b[0m                       Traceback (most recent call last)",
      "Cell \u001b[1;32mIn[1], line 7\u001b[0m\n\u001b[0;32m      4\u001b[0m \u001b[38;5;28;01mimport\u001b[39;00m \u001b[38;5;21;01mre\u001b[39;00m \u001b[38;5;66;03m#look for matches in strings\u001b[39;00m\n\u001b[0;32m      5\u001b[0m \u001b[38;5;66;03m#from datetime import datetime\u001b[39;00m\n\u001b[1;32m----> 7\u001b[0m \u001b[38;5;28;01mfrom\u001b[39;00m \u001b[38;5;21;01mretail\u001b[39;00m\u001b[38;5;21;01m.\u001b[39;00m\u001b[38;5;21;01mclass_customer\u001b[39;00m \u001b[38;5;28;01mimport\u001b[39;00m \u001b[38;5;241m*\u001b[39m\n\u001b[0;32m      8\u001b[0m \u001b[38;5;28;01mfrom\u001b[39;00m \u001b[38;5;21;01mretail\u001b[39;00m\u001b[38;5;21;01m.\u001b[39;00m\u001b[38;5;21;01mclass_retail\u001b[39;00m \u001b[38;5;28;01mimport\u001b[39;00m \u001b[38;5;241m*\u001b[39m\n",
      "\u001b[1;31mModuleNotFoundError\u001b[0m: No module named 'retail'"
     ]
    }
   ],
   "source": [
    "# load necessary packages\n",
    "import pandas as pd\n",
    "import numpy as np\n",
    "import polars as pl\n",
    "import re \n",
    "\n",
    "from retail.class_customer import *\n",
    "from retail.class_retail import *"
   ]
  },
  {
   "cell_type": "markdown",
   "id": "348ad854",
   "metadata": {},
   "source": [
    "## Import data"
   ]
  },
  {
   "cell_type": "code",
   "execution_count": 2,
   "id": "86dcba27",
   "metadata": {},
   "outputs": [],
   "source": [
    "data_file = \"Online_Retail.csv\"\n",
    "target_path = '/Users/Mariia/Documents/GitHub/Python_Project'\n",
    "pol_data = retail(target_path, data_file)\n",
    "\n",
    "data_raw = pol_data.read_data(pol_data.data_file)\n",
    "print(data_raw.head(5))"
   ]
  },
  {
   "cell_type": "markdown",
   "id": "52ec9893-a0dc-4de1-af02-f6eb0d358ff9",
   "metadata": {},
   "source": [
    "## Preprocess data"
   ]
  },
  {
   "cell_type": "code",
   "execution_count": null,
   "id": "7b249307-9a6d-43df-9934-e2eef27b68e7",
   "metadata": {},
   "outputs": [],
   "source": [
    "#preprocess data set\n",
    "data_preprocess = pol_data.data_preprocessed(data_raw)\n",
    "print(data_preprocess.head(5))"
   ]
  },
  {
   "cell_type": "markdown",
   "id": "850109f7-45b5-46be-b824-d75248a9fa66",
   "metadata": {},
   "source": [
    "## Explore the data"
   ]
  },
  {
   "cell_type": "code",
   "execution_count": 2,
   "id": "f8034cb0-4e41-455f-82f2-a2f3615b4c83",
   "metadata": {},
   "outputs": [
    {
     "ename": "NameError",
     "evalue": "name 'data_raw' is not defined",
     "output_type": "error",
     "traceback": [
      "\u001b[1;31m---------------------------------------------------------------------------\u001b[0m",
      "\u001b[1;31mNameError\u001b[0m                                 Traceback (most recent call last)",
      "Cell \u001b[1;32mIn[2], line 2\u001b[0m\n\u001b[0;32m      1\u001b[0m \u001b[38;5;66;03m# initialize customer\u001b[39;00m\n\u001b[1;32m----> 2\u001b[0m dataset \u001b[38;5;241m=\u001b[39m\u001b[43mdata_raw\u001b[49m\u001b[38;5;66;03m# pd.read_csv('C:/Users/Galin Belchov/Downloads/python project/Online_Retail.csv')\u001b[39;00m\n\u001b[0;32m      3\u001b[0m \u001b[38;5;66;03m# Filter data for a specific customer (e.g., customer ID 17850.0)\u001b[39;00m\n\u001b[0;32m      4\u001b[0m customer_id \u001b[38;5;241m=\u001b[39m \u001b[38;5;241m17850.0\u001b[39m\n",
      "\u001b[1;31mNameError\u001b[0m: name 'data_raw' is not defined"
     ]
    }
   ],
   "source": [
    "# initialize customer\n",
    "dataset = data_preprocess \n",
    "# Filter data for a specific customer (e.g., customer ID 17850.0)\n",
    "customer_id = 17850.0\n",
    "customer_data = dataset.filter(pl.col('CustomerID') == customer_id)\n",
    "get_country = customer_data.select(\"Country\")[0]\n",
    "\n",
    "# Create an instance of the Customer class\n",
    "customer = Customer(\n",
    "    customer_id = customer_id,\n",
    "    country = get_country,\n",
    "    transactions = customer_data\n",
    ")"
   ]
  },
  {
   "cell_type": "code",
   "execution_count": null,
   "id": "f66db984-a2e6-410f-98a1-2873652a693d",
   "metadata": {},
   "outputs": [],
   "source": [
    "# internal attributes\n",
    "print(\"Total Transactions:\", customer.total_transactions())\n",
    "print(\"Total Spent:\", customer.total_spent())\n",
    "\n",
    "# descriptive statistics\n",
    "customer.avg_transaction_amounts_plot(dataset)\n",
    "customer.customer_segmentation_plot(dataset)\n",
    "customer.country_distribution_plot(dataset)\n",
    "\n",
    "spending_category = customer.categorize_spending()\n",
    "print(\"Spending Category:\", spending_category)"
   ]
  }
 ],
 "metadata": {
  "kernelspec": {
   "display_name": "Python 3 (ipykernel)",
   "language": "python",
   "name": "python3"
  },
  "language_info": {
   "codemirror_mode": {
    "name": "ipython",
    "version": 3
   },
   "file_extension": ".py",
   "mimetype": "text/x-python",
   "name": "python",
   "nbconvert_exporter": "python",
   "pygments_lexer": "ipython3",
   "version": "3.9.19"
  }
 },
 "nbformat": 4,
 "nbformat_minor": 5
}
