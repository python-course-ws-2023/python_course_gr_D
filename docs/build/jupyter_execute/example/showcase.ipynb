{
 "cells": [
  {
   "cell_type": "markdown",
   "id": "7b0db095",
   "metadata": {},
   "source": [
    "# Example project"
   ]
  },
  {
   "cell_type": "code",
   "execution_count": 1,
   "id": "d4b3b31d",
   "metadata": {},
   "outputs": [],
   "source": [
    "# load necessary packages\n",
    "import pandas as pd\n",
    "import numpy as np\n",
    "import polars as pl\n",
    "import re \n",
    "\n",
    "from retail.class_customer import *\n",
    "from retail.class_retail import *"
   ]
  },
  {
   "cell_type": "markdown",
   "id": "348ad854",
   "metadata": {},
   "source": [
    "## Import data"
   ]
  },
  {
   "cell_type": "code",
   "execution_count": 2,
   "id": "86dcba27",
   "metadata": {},
   "outputs": [
    {
     "name": "stdout",
     "output_type": "stream",
     "text": [
      "shape: (5, 9)\n",
      "┌───────┬───────────┬───────────┬────────────┬───┬────────────┬───────────┬────────────┬───────────┐\n",
      "│ index ┆ InvoiceNo ┆ StockCode ┆ Descriptio ┆ … ┆ InvoiceDat ┆ UnitPrice ┆ CustomerID ┆ Country   │\n",
      "│ ---   ┆ ---       ┆ ---       ┆ n          ┆   ┆ e          ┆ ---       ┆ ---        ┆ ---       │\n",
      "│ i64   ┆ str       ┆ str       ┆ ---        ┆   ┆ ---        ┆ f64       ┆ f64        ┆ str       │\n",
      "│       ┆           ┆           ┆ str        ┆   ┆ str        ┆           ┆            ┆           │\n",
      "╞═══════╪═══════════╪═══════════╪════════════╪═══╪════════════╪═══════════╪════════════╪═══════════╡\n",
      "│ 0     ┆ 536365    ┆ 85123A    ┆ WHITE      ┆ … ┆ 12/1/2010  ┆ 2.55      ┆ 17850.0    ┆ United    │\n",
      "│       ┆           ┆           ┆ HANGING    ┆   ┆ 8:26       ┆           ┆            ┆ Kingdom   │\n",
      "│       ┆           ┆           ┆ HEART      ┆   ┆            ┆           ┆            ┆           │\n",
      "│       ┆           ┆           ┆ T-LIGHT    ┆   ┆            ┆           ┆            ┆           │\n",
      "│       ┆           ┆           ┆ HOLD…      ┆   ┆            ┆           ┆            ┆           │\n",
      "│ 1     ┆ 536365    ┆ 71053     ┆ WHITE      ┆ … ┆ 12/1/2010  ┆ 3.39      ┆ 17850.0    ┆ United    │\n",
      "│       ┆           ┆           ┆ METAL      ┆   ┆ 8:26       ┆           ┆            ┆ Kingdom   │\n",
      "│       ┆           ┆           ┆ LANTERN    ┆   ┆            ┆           ┆            ┆           │\n",
      "│ 2     ┆ 536365    ┆ 84406B    ┆ CREAM      ┆ … ┆ 12/1/2010  ┆ 2.75      ┆ 17850.0    ┆ United    │\n",
      "│       ┆           ┆           ┆ CUPID      ┆   ┆ 8:26       ┆           ┆            ┆ Kingdom   │\n",
      "│       ┆           ┆           ┆ HEARTS     ┆   ┆            ┆           ┆            ┆           │\n",
      "│       ┆           ┆           ┆ COAT       ┆   ┆            ┆           ┆            ┆           │\n",
      "│       ┆           ┆           ┆ HANGER     ┆   ┆            ┆           ┆            ┆           │\n",
      "│ 3     ┆ 536365    ┆ 84029G    ┆ KNITTED    ┆ … ┆ 12/1/2010  ┆ 3.39      ┆ 17850.0    ┆ United    │\n",
      "│       ┆           ┆           ┆ UNION FLAG ┆   ┆ 8:26       ┆           ┆            ┆ Kingdom   │\n",
      "│       ┆           ┆           ┆ HOT WATER  ┆   ┆            ┆           ┆            ┆           │\n",
      "│       ┆           ┆           ┆ BOT…       ┆   ┆            ┆           ┆            ┆           │\n",
      "│ 4     ┆ 536365    ┆ 84029E    ┆ RED WOOLLY ┆ … ┆ 12/1/2010  ┆ 3.39      ┆ 17850.0    ┆ United    │\n",
      "│       ┆           ┆           ┆ HOTTIE     ┆   ┆ 8:26       ┆           ┆            ┆ Kingdom   │\n",
      "│       ┆           ┆           ┆ WHITE      ┆   ┆            ┆           ┆            ┆           │\n",
      "│       ┆           ┆           ┆ HEART.     ┆   ┆            ┆           ┆            ┆           │\n",
      "└───────┴───────────┴───────────┴────────────┴───┴────────────┴───────────┴────────────┴───────────┘\n"
     ]
    }
   ],
   "source": [
    "data_file = \"Online_Retail.csv\"\n",
    "target_path = '/Users/Mariia/Documents/GitHub/Python_Project'\n",
    "pol_data = retail(target_path, data_file)\n",
    "\n",
    "data_raw = pol_data.read_data(pol_data.data_file)\n",
    "print(data_raw.head(5))"
   ]
  },
  {
   "cell_type": "markdown",
   "id": "52ec9893-a0dc-4de1-af02-f6eb0d358ff9",
   "metadata": {},
   "source": [
    "## Preprocess data"
   ]
  },
  {
   "cell_type": "code",
   "execution_count": 3,
   "id": "7b249307-9a6d-43df-9934-e2eef27b68e7",
   "metadata": {},
   "outputs": [
    {
     "name": "stdout",
     "output_type": "stream",
     "text": [
      "shape: (5, 10)\n",
      "┌───────┬───────────┬───────────┬──────────┬───┬────────────┬─────────┬──────────┬─────────────────┐\n",
      "│ index ┆ InvoiceNo ┆ StockCode ┆ Quantity ┆ … ┆ CustomerID ┆ Country ┆ addition ┆ Description     │\n",
      "│ ---   ┆ ---       ┆ ---       ┆ ---      ┆   ┆ ---        ┆ ---     ┆ ---      ┆ ---             │\n",
      "│ i64   ┆ i32       ┆ str       ┆ i64      ┆   ┆ f64        ┆ str     ┆ str      ┆ str             │\n",
      "╞═══════╪═══════════╪═══════════╪══════════╪═══╪════════════╪═════════╪══════════╪═════════════════╡\n",
      "│ 0     ┆ 536365    ┆ 85123A    ┆ 6        ┆ … ┆ 17850.0    ┆ United  ┆ null     ┆ WHITE HANGING   │\n",
      "│       ┆           ┆           ┆          ┆   ┆            ┆ Kingdom ┆          ┆ HEART T-LIGHT   │\n",
      "│       ┆           ┆           ┆          ┆   ┆            ┆         ┆          ┆ HOLD…           │\n",
      "│ 1     ┆ 536365    ┆ 71053     ┆ 6        ┆ … ┆ 17850.0    ┆ United  ┆ null     ┆ WHITE METAL     │\n",
      "│       ┆           ┆           ┆          ┆   ┆            ┆ Kingdom ┆          ┆ LANTERN         │\n",
      "│ 2     ┆ 536365    ┆ 84406B    ┆ 8        ┆ … ┆ 17850.0    ┆ United  ┆ null     ┆ CREAM CUPID     │\n",
      "│       ┆           ┆           ┆          ┆   ┆            ┆ Kingdom ┆          ┆ HEARTS COAT     │\n",
      "│       ┆           ┆           ┆          ┆   ┆            ┆         ┆          ┆ HANGER          │\n",
      "│ 3     ┆ 536365    ┆ 84029G    ┆ 6        ┆ … ┆ 17850.0    ┆ United  ┆ null     ┆ KNITTED UNION   │\n",
      "│       ┆           ┆           ┆          ┆   ┆            ┆ Kingdom ┆          ┆ FLAG HOT WATER  │\n",
      "│       ┆           ┆           ┆          ┆   ┆            ┆         ┆          ┆ BOT…            │\n",
      "│ 4     ┆ 536365    ┆ 84029E    ┆ 6        ┆ … ┆ 17850.0    ┆ United  ┆ null     ┆ RED WOOLLY      │\n",
      "│       ┆           ┆           ┆          ┆   ┆            ┆ Kingdom ┆          ┆ HOTTIE WHITE    │\n",
      "│       ┆           ┆           ┆          ┆   ┆            ┆         ┆          ┆ HEART.          │\n",
      "└───────┴───────────┴───────────┴──────────┴───┴────────────┴─────────┴──────────┴─────────────────┘\n"
     ]
    }
   ],
   "source": [
    "#preprocess data set\n",
    "data_preprocess = pol_data.data_preprocessed(data_raw)\n",
    "print(data_preprocess.head(5))"
   ]
  },
  {
   "cell_type": "markdown",
   "id": "850109f7-45b5-46be-b824-d75248a9fa66",
   "metadata": {},
   "source": [
    "## Explore the data"
   ]
  },
  {
   "cell_type": "code",
   "execution_count": 4,
   "id": "f8034cb0-4e41-455f-82f2-a2f3615b4c83",
   "metadata": {},
   "outputs": [],
   "source": [
    "# initialize customer\n",
    "dataset = data_preprocess \n",
    "# Filter data for a specific customer (e.g., customer ID 17850.0)\n",
    "customer_id = 17850.0\n",
    "customer_data = dataset.filter(pl.col('CustomerID') == customer_id)\n",
    "get_country = customer_data.select(\"Country\")[0]\n",
    "\n",
    "# Create an instance of the Customer class\n",
    "customer = Customer(\n",
    "    customer_id = customer_id,\n",
    "    country = get_country,\n",
    "    transactions = customer_data\n",
    ")"
   ]
  },
  {
   "cell_type": "code",
   "execution_count": 5,
   "id": "f66db984-a2e6-410f-98a1-2873652a693d",
   "metadata": {},
   "outputs": [
    {
     "name": "stdout",
     "output_type": "stream",
     "text": [
      "Total Transactions: 297\n"
     ]
    },
    {
     "ename": "TypeError",
     "evalue": "DataFrame object does not support `Series` assignment by index\n\nUse `DataFrame.with_columns`.",
     "output_type": "error",
     "traceback": [
      "\u001b[1;31m---------------------------------------------------------------------------\u001b[0m",
      "\u001b[1;31mTypeError\u001b[0m                                 Traceback (most recent call last)",
      "Cell \u001b[1;32mIn[5], line 3\u001b[0m\n\u001b[0;32m      1\u001b[0m \u001b[38;5;66;03m# internal attributes\u001b[39;00m\n\u001b[0;32m      2\u001b[0m \u001b[38;5;28mprint\u001b[39m(\u001b[38;5;124m\"\u001b[39m\u001b[38;5;124mTotal Transactions:\u001b[39m\u001b[38;5;124m\"\u001b[39m, customer\u001b[38;5;241m.\u001b[39mtotal_transactions())\n\u001b[1;32m----> 3\u001b[0m \u001b[38;5;28mprint\u001b[39m(\u001b[38;5;124m\"\u001b[39m\u001b[38;5;124mTotal Spent:\u001b[39m\u001b[38;5;124m\"\u001b[39m, \u001b[43mcustomer\u001b[49m\u001b[38;5;241;43m.\u001b[39;49m\u001b[43mtotal_spent\u001b[49m\u001b[43m(\u001b[49m\u001b[43m)\u001b[49m)\n\u001b[0;32m      5\u001b[0m \u001b[38;5;66;03m# descriptive statistics\u001b[39;00m\n\u001b[0;32m      6\u001b[0m customer\u001b[38;5;241m.\u001b[39mavg_transaction_amounts_plot(dataset)\n",
      "File \u001b[1;32m~\\anaconda3\\envs\\make-my-prior\\Lib\\site-packages\\retail\\class_customer.py:46\u001b[0m, in \u001b[0;36mCustomer.total_spent\u001b[1;34m(self)\u001b[0m\n\u001b[0;32m     39\u001b[0m \u001b[38;5;250m\u001b[39m\u001b[38;5;124;03m\"\"\"\u001b[39;00m\n\u001b[0;32m     40\u001b[0m \u001b[38;5;124;03mCalculate the total amount spent by the customer.\u001b[39;00m\n\u001b[0;32m     41\u001b[0m \n\u001b[0;32m     42\u001b[0m \u001b[38;5;124;03mReturns:\u001b[39;00m\n\u001b[0;32m     43\u001b[0m \u001b[38;5;124;03m- str: The total amount spent by the customer formatted as dollars.\u001b[39;00m\n\u001b[0;32m     44\u001b[0m \u001b[38;5;124;03m\"\"\"\u001b[39;00m\n\u001b[0;32m     45\u001b[0m \u001b[38;5;66;03m# Convert 'TotalPrice' column to numeric data type\u001b[39;00m\n\u001b[1;32m---> 46\u001b[0m \u001b[38;5;28;43mself\u001b[39;49m\u001b[38;5;241;43m.\u001b[39;49m\u001b[43mtransactions\u001b[49m\u001b[43m[\u001b[49m\u001b[38;5;124;43m'\u001b[39;49m\u001b[38;5;124;43mUnitPrice\u001b[39;49m\u001b[38;5;124;43m'\u001b[39;49m\u001b[43m]\u001b[49m \u001b[38;5;241m=\u001b[39m pd\u001b[38;5;241m.\u001b[39mto_numeric(\u001b[38;5;28mself\u001b[39m\u001b[38;5;241m.\u001b[39mtransactions[\u001b[38;5;124m'\u001b[39m\u001b[38;5;124mUnitPrice\u001b[39m\u001b[38;5;124m'\u001b[39m], errors\u001b[38;5;241m=\u001b[39m\u001b[38;5;124m'\u001b[39m\u001b[38;5;124mcoerce\u001b[39m\u001b[38;5;124m'\u001b[39m)\n\u001b[0;32m     47\u001b[0m total_spent \u001b[38;5;241m=\u001b[39m \u001b[38;5;28mself\u001b[39m\u001b[38;5;241m.\u001b[39mtransactions[\u001b[38;5;124m'\u001b[39m\u001b[38;5;124mUnitPrice\u001b[39m\u001b[38;5;124m'\u001b[39m]\u001b[38;5;241m.\u001b[39msum()\n\u001b[0;32m     48\u001b[0m \u001b[38;5;66;03m# Format the total spent amount as dollars for output\u001b[39;00m\n",
      "File \u001b[1;32m~\\anaconda3\\envs\\make-my-prior\\Lib\\site-packages\\polars\\dataframe\\frame.py:1743\u001b[0m, in \u001b[0;36mDataFrame.__setitem__\u001b[1;34m(self, key, value)\u001b[0m\n\u001b[0;32m   1738\u001b[0m \u001b[38;5;28;01mif\u001b[39;00m \u001b[38;5;28misinstance\u001b[39m(key, \u001b[38;5;28mstr\u001b[39m):\n\u001b[0;32m   1739\u001b[0m     msg \u001b[38;5;241m=\u001b[39m (\n\u001b[0;32m   1740\u001b[0m         \u001b[38;5;124m\"\u001b[39m\u001b[38;5;124mDataFrame object does not support `Series` assignment by index\u001b[39m\u001b[38;5;124m\"\u001b[39m\n\u001b[0;32m   1741\u001b[0m         \u001b[38;5;124m\"\u001b[39m\u001b[38;5;130;01m\\n\u001b[39;00m\u001b[38;5;130;01m\\n\u001b[39;00m\u001b[38;5;124mUse `DataFrame.with_columns`.\u001b[39m\u001b[38;5;124m\"\u001b[39m\n\u001b[0;32m   1742\u001b[0m     )\n\u001b[1;32m-> 1743\u001b[0m     \u001b[38;5;28;01mraise\u001b[39;00m \u001b[38;5;167;01mTypeError\u001b[39;00m(msg)\n\u001b[0;32m   1745\u001b[0m \u001b[38;5;66;03m# df[[\"C\", \"D\"]]\u001b[39;00m\n\u001b[0;32m   1746\u001b[0m \u001b[38;5;28;01melif\u001b[39;00m \u001b[38;5;28misinstance\u001b[39m(key, \u001b[38;5;28mlist\u001b[39m):\n\u001b[0;32m   1747\u001b[0m     \u001b[38;5;66;03m# TODO: Use python sequence constructors\u001b[39;00m\n",
      "\u001b[1;31mTypeError\u001b[0m: DataFrame object does not support `Series` assignment by index\n\nUse `DataFrame.with_columns`."
     ]
    }
   ],
   "source": [
    "# internal attributes\n",
    "print(\"Total Transactions:\", customer.total_transactions())\n",
    "print(\"Total Spent:\", customer.total_spent())\n",
    "\n",
    "# descriptive statistics\n",
    "customer.avg_transaction_amounts_plot(dataset)\n",
    "customer.customer_segmentation_plot(dataset)\n",
    "customer.country_distribution_plot(dataset)\n",
    "\n",
    "spending_category = customer.categorize_spending()\n",
    "print(\"Spending Category:\", spending_category)"
   ]
  }
 ],
 "metadata": {
  "kernelspec": {
   "display_name": "Python 3 (ipykernel)",
   "language": "python",
   "name": "python3"
  },
  "language_info": {
   "codemirror_mode": {
    "name": "ipython",
    "version": 3
   },
   "file_extension": ".py",
   "mimetype": "text/x-python",
   "name": "python",
   "nbconvert_exporter": "python",
   "pygments_lexer": "ipython3",
   "version": "3.11.4"
  }
 },
 "nbformat": 4,
 "nbformat_minor": 5
}